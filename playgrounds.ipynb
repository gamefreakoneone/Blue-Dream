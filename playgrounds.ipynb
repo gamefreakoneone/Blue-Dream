{
 "cells": [
  {
   "cell_type": "code",
   "execution_count": null,
   "id": "93294a32",
   "metadata": {},
   "outputs": [],
   "source": [
    "from google import genai\n",
    "import os\n",
    "from dotenv import load_dotenv\n",
    "\n",
    "load_dotenv()\n",
    "client = genai.Client(api_key=os.getenv(\"API_KEY\"))\n",
    "\n",
    "myfile = client.files.upload(file=r\"C:\\Users\\amogh\\Downloads\\test.mp4\")\n",
    "\n",
    "response = client.models.generate_content(\n",
    "    model=\"gemini-2.5-flash\", contents=[myfile, \"Summarize this video.\"]\n",
    ")\n",
    "\n",
    "print(response.text)"
   ]
  },
  {
   "cell_type": "code",
   "execution_count": null,
   "id": "5e577911",
   "metadata": {},
   "outputs": [],
   "source": [
    "import os\n",
    "from google import genai\n",
    "from google.genai import types\n",
    "\n",
    "load_dotenv()\n",
    "client = genai.Client(api_key=os.getenv(\"API_KEY\"))\n",
    "\n",
    "with open(\"C:\\\\Users\\\\amogh\\\\Pictures\\\\Camera Roll\\\\WIN_20251016_21_42_45_Pro.mp4\", \"rb\") as f:\n",
    "    video_bytes = f.read()\n",
    "\n",
    "response = client.models.generate_content(\n",
    "    model='gemini-2.5-flash',\n",
    "    contents=types.Content(\n",
    "        parts=[\n",
    "            types.Part(inline_data=types.Blob(data=video_bytes, mime_type='video/mp4')),\n",
    "            types.Part(text='Describe what is happening in this video.')\n",
    "        ]\n",
    "    )\n",
    ")\n",
    "\n",
    "print(response.text)"
   ]
  },
  {
   "cell_type": "code",
   "execution_count": null,
   "id": "36b0a5d5",
   "metadata": {},
   "outputs": [],
   "source": [
    "from ultralytics import YOLO\n",
    "\n",
    "# Load a pretrained YOLO11n model\n",
    "model = YOLO(\"yolo11n.pt\")\n",
    "\n",
    "# Train the model on the COCO8 dataset for 100 epochs\n",
    "train_results = model.train(\n",
    "    data=\"coco8.yaml\",  # Path to dataset configuration file\n",
    "    epochs=100,  # Number of training epochs\n",
    "    imgsz=640,  # Image size for training\n",
    "    device=\"cpu\",  # Device to run on (e.g., 'cpu', 0, [0,1,2,3])\n",
    ")\n",
    "\n",
    "# Evaluate the model's performance on the validation set\n",
    "metrics = model.val()\n",
    "\n",
    "# Perform object detection on an image\n",
    "results = model(r\"C:\\Users\\amogh\\OneDrive\\Pictures\\20211207_160417.jpg\")  # Predict on an image\n",
    "results[0].show()  # Display results\n",
    "\n",
    "# Export the model to ONNX format for deployment\n",
    "path = model.export(format=\"onnx\")  # Returns the path to the exported model"
   ]
  },
  {
   "cell_type": "code",
   "execution_count": 3,
   "id": "9dda6081",
   "metadata": {},
   "outputs": [
    {
     "name": "stdout",
     "output_type": "stream",
     "text": [
      "Uploading file...\n",
      "File uploaded: files/2k715h9l98y2\n",
      "File is processing. Waiting...\n",
      "File is now ACTIVE and ready for use.\n",
      "The video shows a young man, presumably MrBeast, sitting in a chair and talking directly to the camera. He is wearing a blue t-shirt and has light brown hair. He frequently gestures with his hands as he speaks.\n",
      "\n",
      "The background consists of light wooden furniture, including a dresser with two drawers and a wardrobe, and a light-colored wall. A white plastic jug and a box are visible on top of the dresser.\n",
      "\n",
      "At various points, the video cuts to a screen displaying \"8,726 subscribers\" and \"1,830,631 views\", along with a tiger logo. Another screen capture shows the date and time as \"8:27 PM 10/4/2015\".\n",
      "\n",
      "The young man appears to be making a \"future self\" video, addressing himself in 10 years, which would be 2025. He mentions hoping to have a million subscribers by then and discusses his current life, including studying for a history test and enjoying YouTube. He also jokingly wonders if he'll be married or even alive in 10 years.\n"
     ]
    }
   ],
   "source": [
    "from google import genai\n",
    "import os\n",
    "import time\n",
    "from dotenv import load_dotenv\n",
    "\n",
    "# Initialize client with your API key\n",
    "load_dotenv()\n",
    "client = genai.Client(api_key=os.getenv(\"API_KEY\"))\n",
    "\n",
    "# 1. Upload the video file\n",
    "print(\"Uploading file...\")\n",
    "myfile = client.files.upload(file=r\"C:\\Users\\amogh\\Downloads\\Hi Me In 10 Years.publer.com.mp4\")\n",
    "print(f\"File uploaded: {myfile.name}\")\n",
    "\n",
    "# 2. Wait for the file to be processed and become ACTIVE\n",
    "while myfile.state.name == \"PROCESSING\":\n",
    "    print(\"File is processing. Waiting...\")\n",
    "    time.sleep(10)  # Wait for 10 seconds before checking again\n",
    "    # Get the latest status of the file\n",
    "    myfile = client.files.get(name=myfile.name)\n",
    "\n",
    "# 3. Check if processing failed\n",
    "if myfile.state.name == \"FAILED\":\n",
    "    raise ValueError(\"File processing failed.\")\n",
    "\n",
    "print(f\"File is now {myfile.state.name} and ready for use.\")\n",
    "\n",
    "# 4. Generate description now that the file is ACTIVE\n",
    "response = client.models.generate_content(\n",
    "    model=\"gemini-2.5-flash\", # Note: The model name was corrected from gemini-2.5-flash\n",
    "    contents=[myfile, \"Describe what is happening in this video.\"]\n",
    ")\n",
    "\n",
    "print(response.text)"
   ]
  },
  {
   "cell_type": "code",
   "execution_count": null,
   "id": "31f5813f",
   "metadata": {},
   "outputs": [],
   "source": []
  }
 ],
 "metadata": {
  "kernelspec": {
   "display_name": "base",
   "language": "python",
   "name": "python3"
  },
  "language_info": {
   "codemirror_mode": {
    "name": "ipython",
    "version": 3
   },
   "file_extension": ".py",
   "mimetype": "text/x-python",
   "name": "python",
   "nbconvert_exporter": "python",
   "pygments_lexer": "ipython3",
   "version": "3.12.4"
  }
 },
 "nbformat": 4,
 "nbformat_minor": 5
}
